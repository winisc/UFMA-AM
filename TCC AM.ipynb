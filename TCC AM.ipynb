{
 "cells": [
  {
   "cell_type": "code",
   "execution_count": 1,
   "id": "6b10749b",
   "metadata": {},
   "outputs": [],
   "source": [
    "import os\n",
    "import requests\n",
    "from zipfile import ZipFile"
   ]
  },
  {
   "cell_type": "code",
   "execution_count": 5,
   "id": "79088554",
   "metadata": {},
   "outputs": [],
   "source": [
    "def baixar_arquivo(url, endereco):\n",
    "    #requisição ao servidor\n",
    "    req = requests.get(url)\n",
    "    if req.status_code == requests.codes.OK:\n",
    "        with open(endereco, 'wb') as novo_arquivo:\n",
    "            novo_arquivo.write(req.content)\n",
    "        print(\"Download finalizado. Salvo em: {}\".format(endereco))\n",
    "    else:\n",
    "        req.raise_for_status()"
   ]
  },
  {
   "cell_type": "code",
   "execution_count": 6,
   "id": "de232c4c",
   "metadata": {},
   "outputs": [
    {
     "name": "stdout",
     "output_type": "stream",
     "text": [
      "Download finalizado. Salvo em: output\\2020.zip\n",
      "Download finalizado. Salvo em: output\\2021.zip\n",
      "Download finalizado. Salvo em: output\\2022.zip\n",
      "Download finalizado. Salvo em: output\\2023.zip\n"
     ]
    }
   ],
   "source": [
    "if __name__ == \"__main__\":\n",
    "    #criando pasta para download\n",
    "    pasta_download = \"output\"\n",
    "    if(not os.path.exists(pasta_download)):\n",
    "        os.mkdir(pasta_download)\n",
    "\n",
    "    BASE_URL = 'https://portal.inmet.gov.br/uploads/dadoshistoricos/{}.zip'\n",
    "    OUTPUT_DIR = 'output'\n",
    "    #armazenando arquivos\n",
    "    for i in range (2020, 2024):\n",
    "        nome_arquivo = os.path.join(OUTPUT_DIR, '{}.zip'.format(i))\n",
    "        baixar_arquivo(BASE_URL.format(i), nome_arquivo)"
   ]
  },
  {
   "cell_type": "code",
   "execution_count": 7,
   "id": "d692a24f",
   "metadata": {},
   "outputs": [
    {
     "name": "stdout",
     "output_type": "stream",
     "text": [
      "Arquivo 2020 extraido com sucesso.\n",
      "Arquivo 2021 extraido com sucesso.\n",
      "Arquivo 2022 extraido com sucesso.\n",
      "Arquivo 2023 extraido com sucesso.\n"
     ]
    }
   ],
   "source": [
    "   #extraindo arquivos\n",
    "for i in range (2020, 2024):\n",
    "         with ZipFile('output/{}.zip'.format(i), 'r') as zip:\n",
    "                zip.extractall(OUTPUT_DIR)\n",
    "                print(\"Arquivo {} extraido com sucesso.\".format(i))"
   ]
  },
  {
   "cell_type": "code",
   "execution_count": 2,
   "id": "f0cd53cd",
   "metadata": {},
   "outputs": [
    {
     "name": "stdout",
     "output_type": "stream",
     "text": [
      "%pylab is deprecated, use %matplotlib inline and import the required libraries.\n",
      "Populating the interactive namespace from numpy and matplotlib\n"
     ]
    }
   ],
   "source": [
    "import pandas as pd\n",
    "import datetime\n",
    "from pathlib import Path\n",
    "from pandas.api.types import is_numeric_dtype\n",
    "\n",
    "%pylab inline"
   ]
  },
  {
   "cell_type": "code",
   "execution_count": 3,
   "id": "3b845cd5",
   "metadata": {},
   "outputs": [],
   "source": [
    "class CONFIG():\n",
    "    path_csv = Path('output/')\n",
    "    random_state=42\n",
    "cfg = CONFIG()"
   ]
  },
  {
   "cell_type": "code",
   "execution_count": 4,
   "id": "e7fffc11",
   "metadata": {},
   "outputs": [],
   "source": [
    "def read_df_info(path_csv):\n",
    "\n",
    "    head_info = {}\n",
    "    count = 0\n",
    "    with open(path_csv, 'r',  encoding = 'unicode_escape') as f:\n",
    "        for line in f.readlines():\n",
    "            if count == 8:\n",
    "                break\n",
    "\n",
    "            k, v = line.split(';')\n",
    "            head_info[k] = v[:-1]\n",
    "            count += 1\n",
    "\n",
    "    df_info = pd.DataFrame([head_info])\n",
    "    return df_info\n",
    "\n",
    "def read_df_data(path_csv):\n",
    "    df = pd.read_csv(path_csv, sep=';', encoding = 'unicode_escape', engine ='python', skiprows=8)\n",
    "    return df"
   ]
  },
  {
   "cell_type": "code",
   "execution_count": 5,
   "id": "4278d14b",
   "metadata": {},
   "outputs": [],
   "source": [
    "def load_df(cfg, samples=1):\n",
    "    paths = []\n",
    "    if os.path.isfile(cfg.path_csv):\n",
    "        paths = [str(cfg.path)]\n",
    "    else:\n",
    "        paths = [str(f) for f in cfg.path_csv.glob('**/*.CSV') ]\n",
    "\n",
    "    paths = pd.DataFrame(paths).sample(samples, random_state=42)\n",
    "    dfs = []\n",
    "\n",
    "\n",
    "# Concatenate all data into one DataFrame\n",
    "\n",
    "    for path in paths.loc[:,0]:\n",
    "        df_info = read_df_info(path)\n",
    "        df_data = read_df_data(path)\n",
    "        for column in df_info.columns:\n",
    "            df_data.loc[:,column] = pd.Series([df_info[column].loc[0] for _ in range(len(df_data))])\n",
    "        dfs.append(df_data)\n",
    "\n",
    "    df_data = pd.concat(dfs, ignore_index=True)\n",
    "    df_data = df_data.drop('Unnamed: 19', axis = 1)\n",
    "\n",
    "    # Correção de tipos numericos\n",
    "    for c_str in  df_data.columns[2:19].tolist() + df_data.columns[23:26].tolist():\n",
    "        c = df_data[c_str]\n",
    "        if is_numeric_dtype(c):# c.dtype in ['int16', 'int32', 'int64', 'float16', 'float32', 'float64']  :\n",
    "            df_data.loc[:, [c_str]] = df_data[c_str].apply(np.float32)\n",
    "        else:\n",
    "            df_data.loc[:, [c_str]] = df_data[c_str].str.replace(',', '.')\n",
    "            df_data.loc[:, [c_str]] = df_data[c_str].apply(lambda a: np.float32(pd.to_numeric(a)))\n",
    "\n",
    "    # Correção de datas\n",
    "    df_data.loc[:,'Data Hora'] = pd.to_datetime(df_data.Data.astype(str)+' '+ df_data['Hora UTC'].astype(str))\n",
    "    df_data.loc[:,'DATA DE FUNDACAO:'] = pd.to_datetime(df_data['DATA DE FUNDACAO:'])\n",
    "    df_data.loc[:,'Data'] = pd.to_datetime(df_data['Data'])\n",
    "    df_data['timestamp'] = pd.to_datetime(df_data.Data.astype(str)+' '+ df_data['Hora UTC'].astype(str)).apply(lambda d: int(d.timestamp()))\n",
    "    df_data.set_index('Data Hora',inplace=True)\n",
    "\n",
    "    return df_data"
   ]
  },
  {
   "cell_type": "code",
   "execution_count": 6,
   "id": "6c33d10f",
   "metadata": {},
   "outputs": [
    {
     "name": "stderr",
     "output_type": "stream",
     "text": [
      "C:\\Users\\Winicius\\AppData\\Local\\Temp\\ipykernel_18836\\4232971632.py:31: DeprecationWarning: In a future version, `df.iloc[:, i] = newvals` will attempt to set the values inplace instead of always setting a new array. To retain the old behavior, use either `df[df.columns[i]] = newvals` or, if columns are non-unique, `df.isetitem(i, newvals)`\n",
      "  df_data.loc[:, [c_str]] = df_data[c_str].apply(lambda a: np.float32(pd.to_numeric(a)))\n",
      "C:\\Users\\Winicius\\AppData\\Local\\Temp\\ipykernel_18836\\4232971632.py:31: DeprecationWarning: In a future version, `df.iloc[:, i] = newvals` will attempt to set the values inplace instead of always setting a new array. To retain the old behavior, use either `df[df.columns[i]] = newvals` or, if columns are non-unique, `df.isetitem(i, newvals)`\n",
      "  df_data.loc[:, [c_str]] = df_data[c_str].apply(lambda a: np.float32(pd.to_numeric(a)))\n",
      "C:\\Users\\Winicius\\AppData\\Local\\Temp\\ipykernel_18836\\4232971632.py:31: DeprecationWarning: In a future version, `df.iloc[:, i] = newvals` will attempt to set the values inplace instead of always setting a new array. To retain the old behavior, use either `df[df.columns[i]] = newvals` or, if columns are non-unique, `df.isetitem(i, newvals)`\n",
      "  df_data.loc[:, [c_str]] = df_data[c_str].apply(lambda a: np.float32(pd.to_numeric(a)))\n",
      "C:\\Users\\Winicius\\AppData\\Local\\Temp\\ipykernel_18836\\4232971632.py:31: DeprecationWarning: In a future version, `df.iloc[:, i] = newvals` will attempt to set the values inplace instead of always setting a new array. To retain the old behavior, use either `df[df.columns[i]] = newvals` or, if columns are non-unique, `df.isetitem(i, newvals)`\n",
      "  df_data.loc[:, [c_str]] = df_data[c_str].apply(lambda a: np.float32(pd.to_numeric(a)))\n",
      "C:\\Users\\Winicius\\AppData\\Local\\Temp\\ipykernel_18836\\4232971632.py:31: DeprecationWarning: In a future version, `df.iloc[:, i] = newvals` will attempt to set the values inplace instead of always setting a new array. To retain the old behavior, use either `df[df.columns[i]] = newvals` or, if columns are non-unique, `df.isetitem(i, newvals)`\n",
      "  df_data.loc[:, [c_str]] = df_data[c_str].apply(lambda a: np.float32(pd.to_numeric(a)))\n",
      "C:\\Users\\Winicius\\AppData\\Local\\Temp\\ipykernel_18836\\4232971632.py:31: DeprecationWarning: In a future version, `df.iloc[:, i] = newvals` will attempt to set the values inplace instead of always setting a new array. To retain the old behavior, use either `df[df.columns[i]] = newvals` or, if columns are non-unique, `df.isetitem(i, newvals)`\n",
      "  df_data.loc[:, [c_str]] = df_data[c_str].apply(lambda a: np.float32(pd.to_numeric(a)))\n",
      "C:\\Users\\Winicius\\AppData\\Local\\Temp\\ipykernel_18836\\4232971632.py:31: DeprecationWarning: In a future version, `df.iloc[:, i] = newvals` will attempt to set the values inplace instead of always setting a new array. To retain the old behavior, use either `df[df.columns[i]] = newvals` or, if columns are non-unique, `df.isetitem(i, newvals)`\n",
      "  df_data.loc[:, [c_str]] = df_data[c_str].apply(lambda a: np.float32(pd.to_numeric(a)))\n",
      "C:\\Users\\Winicius\\AppData\\Local\\Temp\\ipykernel_18836\\4232971632.py:31: DeprecationWarning: In a future version, `df.iloc[:, i] = newvals` will attempt to set the values inplace instead of always setting a new array. To retain the old behavior, use either `df[df.columns[i]] = newvals` or, if columns are non-unique, `df.isetitem(i, newvals)`\n",
      "  df_data.loc[:, [c_str]] = df_data[c_str].apply(lambda a: np.float32(pd.to_numeric(a)))\n",
      "C:\\Users\\Winicius\\AppData\\Local\\Temp\\ipykernel_18836\\4232971632.py:31: DeprecationWarning: In a future version, `df.iloc[:, i] = newvals` will attempt to set the values inplace instead of always setting a new array. To retain the old behavior, use either `df[df.columns[i]] = newvals` or, if columns are non-unique, `df.isetitem(i, newvals)`\n",
      "  df_data.loc[:, [c_str]] = df_data[c_str].apply(lambda a: np.float32(pd.to_numeric(a)))\n",
      "C:\\Users\\Winicius\\AppData\\Local\\Temp\\ipykernel_18836\\4232971632.py:31: DeprecationWarning: In a future version, `df.iloc[:, i] = newvals` will attempt to set the values inplace instead of always setting a new array. To retain the old behavior, use either `df[df.columns[i]] = newvals` or, if columns are non-unique, `df.isetitem(i, newvals)`\n",
      "  df_data.loc[:, [c_str]] = df_data[c_str].apply(lambda a: np.float32(pd.to_numeric(a)))\n",
      "C:\\Users\\Winicius\\AppData\\Local\\Temp\\ipykernel_18836\\4232971632.py:31: DeprecationWarning: In a future version, `df.iloc[:, i] = newvals` will attempt to set the values inplace instead of always setting a new array. To retain the old behavior, use either `df[df.columns[i]] = newvals` or, if columns are non-unique, `df.isetitem(i, newvals)`\n",
      "  df_data.loc[:, [c_str]] = df_data[c_str].apply(lambda a: np.float32(pd.to_numeric(a)))\n",
      "C:\\Users\\Winicius\\AppData\\Local\\Temp\\ipykernel_18836\\4232971632.py:28: DeprecationWarning: In a future version, `df.iloc[:, i] = newvals` will attempt to set the values inplace instead of always setting a new array. To retain the old behavior, use either `df[df.columns[i]] = newvals` or, if columns are non-unique, `df.isetitem(i, newvals)`\n",
      "  df_data.loc[:, [c_str]] = df_data[c_str].apply(np.float32)\n",
      "C:\\Users\\Winicius\\AppData\\Local\\Temp\\ipykernel_18836\\4232971632.py:28: DeprecationWarning: In a future version, `df.iloc[:, i] = newvals` will attempt to set the values inplace instead of always setting a new array. To retain the old behavior, use either `df[df.columns[i]] = newvals` or, if columns are non-unique, `df.isetitem(i, newvals)`\n",
      "  df_data.loc[:, [c_str]] = df_data[c_str].apply(np.float32)\n",
      "C:\\Users\\Winicius\\AppData\\Local\\Temp\\ipykernel_18836\\4232971632.py:28: DeprecationWarning: In a future version, `df.iloc[:, i] = newvals` will attempt to set the values inplace instead of always setting a new array. To retain the old behavior, use either `df[df.columns[i]] = newvals` or, if columns are non-unique, `df.isetitem(i, newvals)`\n",
      "  df_data.loc[:, [c_str]] = df_data[c_str].apply(np.float32)\n",
      "C:\\Users\\Winicius\\AppData\\Local\\Temp\\ipykernel_18836\\4232971632.py:28: DeprecationWarning: In a future version, `df.iloc[:, i] = newvals` will attempt to set the values inplace instead of always setting a new array. To retain the old behavior, use either `df[df.columns[i]] = newvals` or, if columns are non-unique, `df.isetitem(i, newvals)`\n",
      "  df_data.loc[:, [c_str]] = df_data[c_str].apply(np.float32)\n",
      "C:\\Users\\Winicius\\AppData\\Local\\Temp\\ipykernel_18836\\4232971632.py:31: DeprecationWarning: In a future version, `df.iloc[:, i] = newvals` will attempt to set the values inplace instead of always setting a new array. To retain the old behavior, use either `df[df.columns[i]] = newvals` or, if columns are non-unique, `df.isetitem(i, newvals)`\n",
      "  df_data.loc[:, [c_str]] = df_data[c_str].apply(lambda a: np.float32(pd.to_numeric(a)))\n",
      "C:\\Users\\Winicius\\AppData\\Local\\Temp\\ipykernel_18836\\4232971632.py:31: DeprecationWarning: In a future version, `df.iloc[:, i] = newvals` will attempt to set the values inplace instead of always setting a new array. To retain the old behavior, use either `df[df.columns[i]] = newvals` or, if columns are non-unique, `df.isetitem(i, newvals)`\n",
      "  df_data.loc[:, [c_str]] = df_data[c_str].apply(lambda a: np.float32(pd.to_numeric(a)))\n",
      "C:\\Users\\Winicius\\AppData\\Local\\Temp\\ipykernel_18836\\4232971632.py:31: DeprecationWarning: In a future version, `df.iloc[:, i] = newvals` will attempt to set the values inplace instead of always setting a new array. To retain the old behavior, use either `df[df.columns[i]] = newvals` or, if columns are non-unique, `df.isetitem(i, newvals)`\n",
      "  df_data.loc[:, [c_str]] = df_data[c_str].apply(lambda a: np.float32(pd.to_numeric(a)))\n",
      "C:\\Users\\Winicius\\AppData\\Local\\Temp\\ipykernel_18836\\4232971632.py:31: DeprecationWarning: In a future version, `df.iloc[:, i] = newvals` will attempt to set the values inplace instead of always setting a new array. To retain the old behavior, use either `df[df.columns[i]] = newvals` or, if columns are non-unique, `df.isetitem(i, newvals)`\n",
      "  df_data.loc[:, [c_str]] = df_data[c_str].apply(lambda a: np.float32(pd.to_numeric(a)))\n",
      "C:\\Users\\Winicius\\AppData\\Local\\Temp\\ipykernel_18836\\4232971632.py:31: DeprecationWarning: In a future version, `df.iloc[:, i] = newvals` will attempt to set the values inplace instead of always setting a new array. To retain the old behavior, use either `df[df.columns[i]] = newvals` or, if columns are non-unique, `df.isetitem(i, newvals)`\n",
      "  df_data.loc[:, [c_str]] = df_data[c_str].apply(lambda a: np.float32(pd.to_numeric(a)))\n",
      "C:\\Users\\Winicius\\AppData\\Local\\Temp\\ipykernel_18836\\4232971632.py:35: DeprecationWarning: In a future version, `df.iloc[:, i] = newvals` will attempt to set the values inplace instead of always setting a new array. To retain the old behavior, use either `df[df.columns[i]] = newvals` or, if columns are non-unique, `df.isetitem(i, newvals)`\n",
      "  df_data.loc[:,'DATA DE FUNDACAO:'] = pd.to_datetime(df_data['DATA DE FUNDACAO:'])\n",
      "C:\\Users\\Winicius\\AppData\\Local\\Temp\\ipykernel_18836\\4232971632.py:36: DeprecationWarning: In a future version, `df.iloc[:, i] = newvals` will attempt to set the values inplace instead of always setting a new array. To retain the old behavior, use either `df[df.columns[i]] = newvals` or, if columns are non-unique, `df.isetitem(i, newvals)`\n",
      "  df_data.loc[:,'Data'] = pd.to_datetime(df_data['Data'])\n"
     ]
    },
    {
     "name": "stdout",
     "output_type": "stream",
     "text": [
      "<class 'pandas.core.frame.DataFrame'>\n",
      "DatetimeIndex: 267000 entries, 2023-01-01 00:00:00+00:00 to 2021-12-31 23:00:00+00:00\n",
      "Data columns (total 28 columns):\n",
      " #   Column                                                 Non-Null Count   Dtype         \n",
      "---  ------                                                 --------------   -----         \n",
      " 0   Data                                                   267000 non-null  datetime64[ns]\n",
      " 1   Hora UTC                                               267000 non-null  object        \n",
      " 2   PRECIPITAÇÃO TOTAL, HORÁRIO (mm)                       160956 non-null  float32       \n",
      " 3   PRESSAO ATMOSFERICA AO NIVEL DA ESTACAO, HORARIA (mB)  175097 non-null  float32       \n",
      " 4   PRESSÃO ATMOSFERICA MAX.NA HORA ANT. (AUT) (mB)        174967 non-null  float32       \n",
      " 5   PRESSÃO ATMOSFERICA MIN. NA HORA ANT. (AUT) (mB)       174967 non-null  float32       \n",
      " 6   RADIACAO GLOBAL (Kj/m²)                                107942 non-null  float32       \n",
      " 7   TEMPERATURA DO AR - BULBO SECO, HORARIA (°C)           174160 non-null  float32       \n",
      " 8   TEMPERATURA DO PONTO DE ORVALHO (°C)                   159207 non-null  float32       \n",
      " 9   TEMPERATURA MÁXIMA NA HORA ANT. (AUT) (°C)             174027 non-null  float32       \n",
      " 10  TEMPERATURA MÍNIMA NA HORA ANT. (AUT) (°C)             174027 non-null  float32       \n",
      " 11  TEMPERATURA ORVALHO MAX. NA HORA ANT. (AUT) (°C)       159818 non-null  float32       \n",
      " 12  TEMPERATURA ORVALHO MIN. NA HORA ANT. (AUT) (°C)       158530 non-null  float32       \n",
      " 13  UMIDADE REL. MAX. NA HORA ANT. (AUT) (%)               160888 non-null  float32       \n",
      " 14  UMIDADE REL. MIN. NA HORA ANT. (AUT) (%)               158857 non-null  float32       \n",
      " 15  UMIDADE RELATIVA DO AR, HORARIA (%)                    159828 non-null  float32       \n",
      " 16  VENTO, DIREÇÃO HORARIA (gr) (° (gr))                   168077 non-null  float32       \n",
      " 17  VENTO, RAJADA MAXIMA (m/s)                             167872 non-null  float32       \n",
      " 18  VENTO, VELOCIDADE HORARIA (m/s)                        168079 non-null  float32       \n",
      " 19  REGIAO:                                                267000 non-null  object        \n",
      " 20  UF:                                                    267000 non-null  object        \n",
      " 21  ESTACAO:                                               267000 non-null  object        \n",
      " 22  CODIGO (WMO):                                          267000 non-null  object        \n",
      " 23  LATITUDE:                                              267000 non-null  float32       \n",
      " 24  LONGITUDE:                                             267000 non-null  float32       \n",
      " 25  ALTITUDE:                                              267000 non-null  float32       \n",
      " 26  DATA DE FUNDACAO:                                      267000 non-null  datetime64[ns]\n",
      " 27  timestamp                                              267000 non-null  int64         \n",
      "dtypes: datetime64[ns](2), float32(20), int64(1), object(5)\n",
      "memory usage: 38.7+ MB\n"
     ]
    }
   ],
   "source": [
    "df = load_df(cfg, samples=35)\n",
    "df.info()"
   ]
  },
  {
   "cell_type": "code",
   "execution_count": 7,
   "id": "e4c213e4",
   "metadata": {},
   "outputs": [
    {
     "data": {
      "text/html": [
       "<div>\n",
       "<style scoped>\n",
       "    .dataframe tbody tr th:only-of-type {\n",
       "        vertical-align: middle;\n",
       "    }\n",
       "\n",
       "    .dataframe tbody tr th {\n",
       "        vertical-align: top;\n",
       "    }\n",
       "\n",
       "    .dataframe thead th {\n",
       "        text-align: right;\n",
       "    }\n",
       "</style>\n",
       "<table border=\"1\" class=\"dataframe\">\n",
       "  <thead>\n",
       "    <tr style=\"text-align: right;\">\n",
       "      <th></th>\n",
       "      <th>Data</th>\n",
       "      <th>Hora UTC</th>\n",
       "      <th>PRECIPITAÇÃO TOTAL, HORÁRIO (mm)</th>\n",
       "      <th>PRESSAO ATMOSFERICA AO NIVEL DA ESTACAO, HORARIA (mB)</th>\n",
       "      <th>PRESSÃO ATMOSFERICA MAX.NA HORA ANT. (AUT) (mB)</th>\n",
       "      <th>PRESSÃO ATMOSFERICA MIN. NA HORA ANT. (AUT) (mB)</th>\n",
       "      <th>RADIACAO GLOBAL (Kj/m²)</th>\n",
       "      <th>TEMPERATURA DO AR - BULBO SECO, HORARIA (°C)</th>\n",
       "      <th>TEMPERATURA DO PONTO DE ORVALHO (°C)</th>\n",
       "      <th>TEMPERATURA MÁXIMA NA HORA ANT. (AUT) (°C)</th>\n",
       "      <th>...</th>\n",
       "      <th>VENTO, VELOCIDADE HORARIA (m/s)</th>\n",
       "      <th>REGIAO:</th>\n",
       "      <th>UF:</th>\n",
       "      <th>ESTACAO:</th>\n",
       "      <th>CODIGO (WMO):</th>\n",
       "      <th>LATITUDE:</th>\n",
       "      <th>LONGITUDE:</th>\n",
       "      <th>ALTITUDE:</th>\n",
       "      <th>DATA DE FUNDACAO:</th>\n",
       "      <th>timestamp</th>\n",
       "    </tr>\n",
       "    <tr>\n",
       "      <th>Data Hora</th>\n",
       "      <th></th>\n",
       "      <th></th>\n",
       "      <th></th>\n",
       "      <th></th>\n",
       "      <th></th>\n",
       "      <th></th>\n",
       "      <th></th>\n",
       "      <th></th>\n",
       "      <th></th>\n",
       "      <th></th>\n",
       "      <th></th>\n",
       "      <th></th>\n",
       "      <th></th>\n",
       "      <th></th>\n",
       "      <th></th>\n",
       "      <th></th>\n",
       "      <th></th>\n",
       "      <th></th>\n",
       "      <th></th>\n",
       "      <th></th>\n",
       "      <th></th>\n",
       "    </tr>\n",
       "  </thead>\n",
       "  <tbody>\n",
       "    <tr>\n",
       "      <th>2023-01-01 00:00:00+00:00</th>\n",
       "      <td>2023-01-01</td>\n",
       "      <td>0000 UTC</td>\n",
       "      <td>NaN</td>\n",
       "      <td>NaN</td>\n",
       "      <td>NaN</td>\n",
       "      <td>NaN</td>\n",
       "      <td>NaN</td>\n",
       "      <td>NaN</td>\n",
       "      <td>NaN</td>\n",
       "      <td>NaN</td>\n",
       "      <td>...</td>\n",
       "      <td>NaN</td>\n",
       "      <td>SE</td>\n",
       "      <td>MG</td>\n",
       "      <td>ARACUAI</td>\n",
       "      <td>A566</td>\n",
       "      <td>-16.848888</td>\n",
       "      <td>-42.035278</td>\n",
       "      <td>308.0</td>\n",
       "      <td>2017-05-19</td>\n",
       "      <td>1672531200</td>\n",
       "    </tr>\n",
       "    <tr>\n",
       "      <th>2023-01-01 01:00:00+00:00</th>\n",
       "      <td>2023-01-01</td>\n",
       "      <td>0100 UTC</td>\n",
       "      <td>NaN</td>\n",
       "      <td>NaN</td>\n",
       "      <td>NaN</td>\n",
       "      <td>NaN</td>\n",
       "      <td>NaN</td>\n",
       "      <td>NaN</td>\n",
       "      <td>NaN</td>\n",
       "      <td>NaN</td>\n",
       "      <td>...</td>\n",
       "      <td>NaN</td>\n",
       "      <td>SE</td>\n",
       "      <td>MG</td>\n",
       "      <td>ARACUAI</td>\n",
       "      <td>A566</td>\n",
       "      <td>-16.848888</td>\n",
       "      <td>-42.035278</td>\n",
       "      <td>308.0</td>\n",
       "      <td>2017-05-19</td>\n",
       "      <td>1672534800</td>\n",
       "    </tr>\n",
       "    <tr>\n",
       "      <th>2023-01-01 02:00:00+00:00</th>\n",
       "      <td>2023-01-01</td>\n",
       "      <td>0200 UTC</td>\n",
       "      <td>0.0</td>\n",
       "      <td>980.200012</td>\n",
       "      <td>980.299988</td>\n",
       "      <td>979.799988</td>\n",
       "      <td>NaN</td>\n",
       "      <td>24.000000</td>\n",
       "      <td>18.100000</td>\n",
       "      <td>24.500000</td>\n",
       "      <td>...</td>\n",
       "      <td>0.5</td>\n",
       "      <td>SE</td>\n",
       "      <td>MG</td>\n",
       "      <td>ARACUAI</td>\n",
       "      <td>A566</td>\n",
       "      <td>-16.848888</td>\n",
       "      <td>-42.035278</td>\n",
       "      <td>308.0</td>\n",
       "      <td>2017-05-19</td>\n",
       "      <td>1672538400</td>\n",
       "    </tr>\n",
       "    <tr>\n",
       "      <th>2023-01-01 03:00:00+00:00</th>\n",
       "      <td>2023-01-01</td>\n",
       "      <td>0300 UTC</td>\n",
       "      <td>0.0</td>\n",
       "      <td>980.000000</td>\n",
       "      <td>980.299988</td>\n",
       "      <td>980.000000</td>\n",
       "      <td>NaN</td>\n",
       "      <td>24.700001</td>\n",
       "      <td>18.299999</td>\n",
       "      <td>24.799999</td>\n",
       "      <td>...</td>\n",
       "      <td>3.0</td>\n",
       "      <td>SE</td>\n",
       "      <td>MG</td>\n",
       "      <td>ARACUAI</td>\n",
       "      <td>A566</td>\n",
       "      <td>-16.848888</td>\n",
       "      <td>-42.035278</td>\n",
       "      <td>308.0</td>\n",
       "      <td>2017-05-19</td>\n",
       "      <td>1672542000</td>\n",
       "    </tr>\n",
       "    <tr>\n",
       "      <th>2023-01-01 04:00:00+00:00</th>\n",
       "      <td>2023-01-01</td>\n",
       "      <td>0400 UTC</td>\n",
       "      <td>0.0</td>\n",
       "      <td>979.799988</td>\n",
       "      <td>980.000000</td>\n",
       "      <td>979.700012</td>\n",
       "      <td>NaN</td>\n",
       "      <td>23.900000</td>\n",
       "      <td>18.500000</td>\n",
       "      <td>24.700001</td>\n",
       "      <td>...</td>\n",
       "      <td>0.0</td>\n",
       "      <td>SE</td>\n",
       "      <td>MG</td>\n",
       "      <td>ARACUAI</td>\n",
       "      <td>A566</td>\n",
       "      <td>-16.848888</td>\n",
       "      <td>-42.035278</td>\n",
       "      <td>308.0</td>\n",
       "      <td>2017-05-19</td>\n",
       "      <td>1672545600</td>\n",
       "    </tr>\n",
       "  </tbody>\n",
       "</table>\n",
       "<p>5 rows × 28 columns</p>\n",
       "</div>"
      ],
      "text/plain": [
       "                                Data  Hora UTC  \\\n",
       "Data Hora                                        \n",
       "2023-01-01 00:00:00+00:00 2023-01-01  0000 UTC   \n",
       "2023-01-01 01:00:00+00:00 2023-01-01  0100 UTC   \n",
       "2023-01-01 02:00:00+00:00 2023-01-01  0200 UTC   \n",
       "2023-01-01 03:00:00+00:00 2023-01-01  0300 UTC   \n",
       "2023-01-01 04:00:00+00:00 2023-01-01  0400 UTC   \n",
       "\n",
       "                           PRECIPITAÇÃO TOTAL, HORÁRIO (mm)  \\\n",
       "Data Hora                                                     \n",
       "2023-01-01 00:00:00+00:00                               NaN   \n",
       "2023-01-01 01:00:00+00:00                               NaN   \n",
       "2023-01-01 02:00:00+00:00                               0.0   \n",
       "2023-01-01 03:00:00+00:00                               0.0   \n",
       "2023-01-01 04:00:00+00:00                               0.0   \n",
       "\n",
       "                           PRESSAO ATMOSFERICA AO NIVEL DA ESTACAO, HORARIA (mB)  \\\n",
       "Data Hora                                                                          \n",
       "2023-01-01 00:00:00+00:00                                                NaN       \n",
       "2023-01-01 01:00:00+00:00                                                NaN       \n",
       "2023-01-01 02:00:00+00:00                                         980.200012       \n",
       "2023-01-01 03:00:00+00:00                                         980.000000       \n",
       "2023-01-01 04:00:00+00:00                                         979.799988       \n",
       "\n",
       "                           PRESSÃO ATMOSFERICA MAX.NA HORA ANT. (AUT) (mB)  \\\n",
       "Data Hora                                                                    \n",
       "2023-01-01 00:00:00+00:00                                              NaN   \n",
       "2023-01-01 01:00:00+00:00                                              NaN   \n",
       "2023-01-01 02:00:00+00:00                                       980.299988   \n",
       "2023-01-01 03:00:00+00:00                                       980.299988   \n",
       "2023-01-01 04:00:00+00:00                                       980.000000   \n",
       "\n",
       "                           PRESSÃO ATMOSFERICA MIN. NA HORA ANT. (AUT) (mB)  \\\n",
       "Data Hora                                                                     \n",
       "2023-01-01 00:00:00+00:00                                               NaN   \n",
       "2023-01-01 01:00:00+00:00                                               NaN   \n",
       "2023-01-01 02:00:00+00:00                                        979.799988   \n",
       "2023-01-01 03:00:00+00:00                                        980.000000   \n",
       "2023-01-01 04:00:00+00:00                                        979.700012   \n",
       "\n",
       "                           RADIACAO GLOBAL (Kj/m²)  \\\n",
       "Data Hora                                            \n",
       "2023-01-01 00:00:00+00:00                      NaN   \n",
       "2023-01-01 01:00:00+00:00                      NaN   \n",
       "2023-01-01 02:00:00+00:00                      NaN   \n",
       "2023-01-01 03:00:00+00:00                      NaN   \n",
       "2023-01-01 04:00:00+00:00                      NaN   \n",
       "\n",
       "                           TEMPERATURA DO AR - BULBO SECO, HORARIA (°C)  \\\n",
       "Data Hora                                                                 \n",
       "2023-01-01 00:00:00+00:00                                           NaN   \n",
       "2023-01-01 01:00:00+00:00                                           NaN   \n",
       "2023-01-01 02:00:00+00:00                                     24.000000   \n",
       "2023-01-01 03:00:00+00:00                                     24.700001   \n",
       "2023-01-01 04:00:00+00:00                                     23.900000   \n",
       "\n",
       "                           TEMPERATURA DO PONTO DE ORVALHO (°C)  \\\n",
       "Data Hora                                                         \n",
       "2023-01-01 00:00:00+00:00                                   NaN   \n",
       "2023-01-01 01:00:00+00:00                                   NaN   \n",
       "2023-01-01 02:00:00+00:00                             18.100000   \n",
       "2023-01-01 03:00:00+00:00                             18.299999   \n",
       "2023-01-01 04:00:00+00:00                             18.500000   \n",
       "\n",
       "                           TEMPERATURA MÁXIMA NA HORA ANT. (AUT) (°C)  ...  \\\n",
       "Data Hora                                                              ...   \n",
       "2023-01-01 00:00:00+00:00                                         NaN  ...   \n",
       "2023-01-01 01:00:00+00:00                                         NaN  ...   \n",
       "2023-01-01 02:00:00+00:00                                   24.500000  ...   \n",
       "2023-01-01 03:00:00+00:00                                   24.799999  ...   \n",
       "2023-01-01 04:00:00+00:00                                   24.700001  ...   \n",
       "\n",
       "                           VENTO, VELOCIDADE HORARIA (m/s)  REGIAO:  UF:  \\\n",
       "Data Hora                                                                  \n",
       "2023-01-01 00:00:00+00:00                              NaN       SE   MG   \n",
       "2023-01-01 01:00:00+00:00                              NaN       SE   MG   \n",
       "2023-01-01 02:00:00+00:00                              0.5       SE   MG   \n",
       "2023-01-01 03:00:00+00:00                              3.0       SE   MG   \n",
       "2023-01-01 04:00:00+00:00                              0.0       SE   MG   \n",
       "\n",
       "                           ESTACAO:  CODIGO (WMO):  LATITUDE:  LONGITUDE:  \\\n",
       "Data Hora                                                                   \n",
       "2023-01-01 00:00:00+00:00   ARACUAI           A566 -16.848888  -42.035278   \n",
       "2023-01-01 01:00:00+00:00   ARACUAI           A566 -16.848888  -42.035278   \n",
       "2023-01-01 02:00:00+00:00   ARACUAI           A566 -16.848888  -42.035278   \n",
       "2023-01-01 03:00:00+00:00   ARACUAI           A566 -16.848888  -42.035278   \n",
       "2023-01-01 04:00:00+00:00   ARACUAI           A566 -16.848888  -42.035278   \n",
       "\n",
       "                           ALTITUDE:  DATA DE FUNDACAO:   timestamp  \n",
       "Data Hora                                                            \n",
       "2023-01-01 00:00:00+00:00      308.0         2017-05-19  1672531200  \n",
       "2023-01-01 01:00:00+00:00      308.0         2017-05-19  1672534800  \n",
       "2023-01-01 02:00:00+00:00      308.0         2017-05-19  1672538400  \n",
       "2023-01-01 03:00:00+00:00      308.0         2017-05-19  1672542000  \n",
       "2023-01-01 04:00:00+00:00      308.0         2017-05-19  1672545600  \n",
       "\n",
       "[5 rows x 28 columns]"
      ]
     },
     "execution_count": 7,
     "metadata": {},
     "output_type": "execute_result"
    }
   ],
   "source": [
    "df.head()"
   ]
  },
  {
   "cell_type": "code",
   "execution_count": 8,
   "id": "110356aa",
   "metadata": {},
   "outputs": [
    {
     "data": {
      "text/plain": [
       "Text(0, 0.5, 'PRECIPITAÇÃO TOTAL, HORÁRIO (mm)')"
      ]
     },
     "execution_count": 8,
     "metadata": {},
     "output_type": "execute_result"
    },
    {
     "data": {
      "image/png": "[encoded data removed]",
      "text/plain": [
       "<Figure size 1000x600 with 1 Axes>"
      ]
     },
     "metadata": {},
     "output_type": "display_data"
    }
   ],
   "source": [
    "df['PRECIPITAÇÃO TOTAL, HORÁRIO (mm)'].plot(figsize=(10,6),title='PRECIPITAÇÃO TOTAL, HORÁRIO (mm)')\n",
    "plt.ylabel('PRECIPITAÇÃO TOTAL, HORÁRIO (mm)')"
   ]
  },
  {
   "cell_type": "code",
   "execution_count": 9,
   "id": "2fbc3408",
   "metadata": {},
   "outputs": [
    {
     "data": {
      "text/plain": [
       "Index(['Data', 'Hora UTC', 'PRECIPITAÇÃO TOTAL, HORÁRIO (mm)',\n",
       "       'PRESSAO ATMOSFERICA AO NIVEL DA ESTACAO, HORARIA (mB)',\n",
       "       'PRESSÃO ATMOSFERICA MAX.NA HORA ANT. (AUT) (mB)',\n",
       "       'PRESSÃO ATMOSFERICA MIN. NA HORA ANT. (AUT) (mB)',\n",
       "       'RADIACAO GLOBAL (Kj/m²)',\n",
       "       'TEMPERATURA DO AR - BULBO SECO, HORARIA (°C)',\n",
       "       'TEMPERATURA DO PONTO DE ORVALHO (°C)',\n",
       "       'TEMPERATURA MÁXIMA NA HORA ANT. (AUT) (°C)',\n",
       "       'TEMPERATURA MÍNIMA NA HORA ANT. (AUT) (°C)',\n",
       "       'TEMPERATURA ORVALHO MAX. NA HORA ANT. (AUT) (°C)',\n",
       "       'TEMPERATURA ORVALHO MIN. NA HORA ANT. (AUT) (°C)',\n",
       "       'UMIDADE REL. MAX. NA HORA ANT. (AUT) (%)',\n",
       "       'UMIDADE REL. MIN. NA HORA ANT. (AUT) (%)',\n",
       "       'UMIDADE RELATIVA DO AR, HORARIA (%)',\n",
       "       'VENTO, DIREÇÃO HORARIA (gr) (° (gr))', 'VENTO, RAJADA MAXIMA (m/s)',\n",
       "       'VENTO, VELOCIDADE HORARIA (m/s)', 'REGIAO:', 'UF:', 'ESTACAO:',\n",
       "       'CODIGO (WMO):', 'LATITUDE:', 'LONGITUDE:', 'ALTITUDE:',\n",
       "       'DATA DE FUNDACAO:', 'timestamp'],\n",
       "      dtype='object')"
      ]
     },
     "execution_count": 9,
     "metadata": {},
     "output_type": "execute_result"
    }
   ],
   "source": [
    "df.columns"
   ]
  },
  {
   "cell_type": "code",
   "execution_count": 10,
   "id": "d51ea98b",
   "metadata": {},
   "outputs": [
    {
     "data": {
      "text/plain": [
       "PRECIPITAÇÃO TOTAL, HORÁRIO (mm)                         106044\n",
       "PRESSAO ATMOSFERICA AO NIVEL DA ESTACAO, HORARIA (mB)     91903\n",
       "PRESSÃO ATMOSFERICA MAX.NA HORA ANT. (AUT) (mB)           92033\n",
       "PRESSÃO ATMOSFERICA MIN. NA HORA ANT. (AUT) (mB)          92033\n",
       "RADIACAO GLOBAL (Kj/m²)                                  159058\n",
       "TEMPERATURA DO AR - BULBO SECO, HORARIA (°C)              92840\n",
       "TEMPERATURA DO PONTO DE ORVALHO (°C)                     107793\n",
       "TEMPERATURA MÁXIMA NA HORA ANT. (AUT) (°C)                92973\n",
       "TEMPERATURA MÍNIMA NA HORA ANT. (AUT) (°C)                92973\n",
       "TEMPERATURA ORVALHO MAX. NA HORA ANT. (AUT) (°C)         107182\n",
       "TEMPERATURA ORVALHO MIN. NA HORA ANT. (AUT) (°C)         108470\n",
       "UMIDADE REL. MAX. NA HORA ANT. (AUT) (%)                 106112\n",
       "UMIDADE REL. MIN. NA HORA ANT. (AUT) (%)                 108143\n",
       "UMIDADE RELATIVA DO AR, HORARIA (%)                      107172\n",
       "VENTO, DIREÇÃO HORARIA (gr) (° (gr))                      98923\n",
       "VENTO, RAJADA MAXIMA (m/s)                                99128\n",
       "VENTO, VELOCIDADE HORARIA (m/s)                           98921\n",
       "timestamp                                                     0\n",
       "hora                                                          0\n",
       "mes                                                           0\n",
       "ano                                                           0\n",
       "dia                                                           0\n",
       "semana                                                        0\n",
       "choveu                                                        0\n",
       "dtype: int64"
      ]
     },
     "execution_count": 10,
     "metadata": {},
     "output_type": "execute_result"
    }
   ],
   "source": [
    "# Remove and add columns\n",
    "def preprocessing_begin(df):\n",
    "    df_data = df.copy()\n",
    "\n",
    "    df_data['hora']= df_data['Hora UTC'].apply(lambda s: np.float32(s.split(' ')[0])/100)\n",
    "    df_data['mes']= df_data.Data.apply(lambda d: d.month)\n",
    "    df_data['ano']= df_data.Data.apply(lambda d: d.year)\n",
    "    df_data['dia']= df_data.Data.apply(lambda d: d.day)\n",
    "    df_data['semana']= df_data.Data.apply(lambda d: d.week)\n",
    "    df_data['choveu']= df_data['PRECIPITAÇÃO TOTAL, HORÁRIO (mm)'].apply(lambda p: 1 if p > 0 else 0)\n",
    "\n",
    "    df_data.drop(['Data', 'Hora UTC', 'REGIAO:', 'UF:', 'ESTACAO:',\n",
    "       'CODIGO (WMO):', 'LATITUDE:', 'LONGITUDE:', 'ALTITUDE:',\n",
    "       'DATA DE FUNDACAO:'], axis=1, inplace=True)\n",
    "\n",
    "    return df_data\n",
    "\n",
    "df_learn = preprocessing_begin(df)\n",
    "df_learn.isnull().sum()"
   ]
  },
  {
   "cell_type": "code",
   "execution_count": 11,
   "id": "07ae93f4",
   "metadata": {},
   "outputs": [],
   "source": [
    "from sklearn.model_selection import train_test_split\n",
    "from sklearn.utils import resample\n",
    "\n",
    "df_learn_c = df_learn.fillna(-99999) # clean_dataset(df_learn)\n",
    "X = df_learn_c.loc[:, 'PRESSAO ATMOSFERICA AO NIVEL DA ESTACAO, HORARIA (mB)':'semana']\n",
    "y = df_learn_c.loc[:, 'PRECIPITAÇÃO TOTAL, HORÁRIO (mm)']\n",
    "y_class = df_learn.loc[:, 'choveu']\n",
    "\n",
    "X_oversampled, y_oversampled = resample(X[y_class == 1],\n",
    "                                        y[y_class == 1],\n",
    "                                        replace=True,\n",
    "                                        n_samples=X[y_class == 0].shape[0],\n",
    "                                        random_state=cfg.random_state)\n",
    "\n",
    "_, y_oversampled_class = resample(X[y_class == 1],\n",
    "                                        y_class[y_class == 1],\n",
    "                                        replace=True,\n",
    "                                        n_samples=X[y_class == 0].shape[0],\n",
    "                                        random_state=cfg.random_state)\n",
    "\n",
    "\n",
    "X_balanced = np.vstack((X[y == 0], X_oversampled))\n",
    "y_balanced = np.hstack((y[y == 0], y_oversampled))\n",
    "y_balanced_class = np.hstack((y_class[y == 0], y_oversampled_class))\n",
    "\n",
    "X_train, X_test, y_train, y_test = train_test_split(X_balanced, y_balanced, stratify=y_balanced_class, test_size=0.25,  random_state=cfg.random_state)\n",
    "X_train_class, X_test_class, y_train_class, y_test_class = train_test_split(X_balanced, y_balanced_class, stratify=y_balanced_class, test_size=0.25,  random_state=cfg.random_state)"
   ]
  },
  {
   "cell_type": "code",
   "execution_count": 18,
   "id": "e2129136",
   "metadata": {},
   "outputs": [],
   "source": [
    "#REGRESSÃO - svm.SVR"
   ]
  },
  {
   "cell_type": "code",
   "execution_count": 12,
   "id": "189c5e27",
   "metadata": {},
   "outputs": [],
   "source": [
    "from sklearn.pipeline import Pipeline\n",
    "\n",
    "from sklearn.impute import SimpleImputer, KNNImputer\n",
    "from sklearn.preprocessing import StandardScaler, MinMaxScaler\n",
    "from sklearn.feature_selection import SelectKBest, chi2\n",
    "from sklearn.linear_model import LinearRegression\n",
    "from sklearn import svm\n",
    "\n",
    "pipe = Pipeline([\n",
    "\n",
    "    # ('imputer', SimpleImputer(missing_values=-10000, strategy='mean')),\n",
    "    ('imputer', KNNImputer(missing_values=-99999, n_neighbors=10, weights=\"uniform\")),\n",
    "\n",
    "    # ('scaler', StandardScaler()),\n",
    "    ('scaler', MinMaxScaler()),\n",
    "\n",
    "    # ('select', SelectKBest(chi2, k=3)),\n",
    "\n",
    "    # ('regression', LinearRegression())\n",
    "    ('regression', svm.SVR())\n",
    "])"
   ]
  },
  {
   "cell_type": "code",
   "execution_count": 23,
   "id": "2fc766ff",
   "metadata": {},
   "outputs": [
    {
     "name": "stdout",
     "output_type": "stream",
     "text": [
      "O código demorou 13501 segundos\n"
     ]
    }
   ],
   "source": [
    "import time\n",
    "\n",
    "# parte do código\n",
    "\n",
    "tempo_inicial = (time.time()) # em segundos\n",
    "\n",
    "#parte do código que vamos verificar o tempo de execução\n",
    "pipe.fit(X_train, y_train)\n",
    "\n",
    "tempo_final = (time.time()) # em segundos\n",
    "\n",
    "#Restante do código\n",
    "\n",
    "#Print do tempo que demorou para rodar a parte específica do código\n",
    "print(f\"O código demorou {int(tempo_final - tempo_inicial)} segundos\")\n"
   ]
  },
  {
   "cell_type": "code",
   "execution_count": 24,
   "id": "e8908d82",
   "metadata": {},
   "outputs": [
    {
     "data": {
      "text/plain": [
       "1.1432594048720788"
      ]
     },
     "execution_count": 24,
     "metadata": {},
     "output_type": "execute_result"
    }
   ],
   "source": [
    "from sklearn.metrics import mean_absolute_error\n",
    "\n",
    "y_pred = pipe.predict(X_test)\n",
    "mean_absolute_error(y_test, y_pred)"
   ]
  },
  {
   "cell_type": "code",
   "execution_count": null,
   "id": "c3490d66",
   "metadata": {},
   "outputs": [],
   "source": [
    "#REGRESSÃO - KNeighborsRegressor"
   ]
  },
  {
   "cell_type": "code",
   "execution_count": 25,
   "id": "717b54e9",
   "metadata": {},
   "outputs": [],
   "source": [
    "from sklearn.neighbors import KNeighborsRegressor\n",
    "from sklearn.pipeline import make_pipeline\n",
    "\n",
    "pipe = Pipeline([\n",
    "\n",
    "    # ('imputer', SimpleImputer(missing_values=-10000, strategy='mean')),\n",
    "    ('imputer', KNNImputer(missing_values=-99999, n_neighbors=10, weights=\"uniform\")),\n",
    "\n",
    "    # ('scaler', StandardScaler()),\n",
    "    ('scaler', StandardScaler()),\n",
    "\n",
    "    # ('select', SelectKBest(chi2, k=3)),\n",
    "\n",
    "    # ('regression', KNeighborsRegressor())\n",
    "    ('regression', KNeighborsRegressor(n_neighbors=2))\n",
    "])"
   ]
  },
  {
   "cell_type": "code",
   "execution_count": 26,
   "id": "891329d9",
   "metadata": {},
   "outputs": [
    {
     "name": "stdout",
     "output_type": "stream",
     "text": [
      "O código demorou 4524 segundos\n"
     ]
    }
   ],
   "source": [
    "# parte código\n",
    "\n",
    "tempo_inicial = (time.time()) # em segundos\n",
    "\n",
    "#parte do código que vamos verificar o tempo de execução\n",
    "pipe.fit(X_train, y_train)\n",
    "\n",
    "tempo_final = (time.time()) # em segundos\n",
    "\n",
    "#Restante do código\n",
    "\n",
    "#Print do tempo que demorou para rodar a parte específica do código\n",
    "print(f\"O código demorou {int(tempo_final - tempo_inicial)} segundos\")"
   ]
  },
  {
   "cell_type": "code",
   "execution_count": 27,
   "id": "07afdf45",
   "metadata": {},
   "outputs": [
    {
     "data": {
      "text/plain": [
       "0.021751683"
      ]
     },
     "execution_count": 27,
     "metadata": {},
     "output_type": "execute_result"
    }
   ],
   "source": [
    "from sklearn.metrics import mean_absolute_error\n",
    "\n",
    "y_pred = pipe.predict(X_test)\n",
    "mean_absolute_error(y_test, y_pred)"
   ]
  },
  {
   "cell_type": "code",
   "execution_count": null,
   "id": "fcf18006",
   "metadata": {},
   "outputs": [],
   "source": [
    "#REGRESSÃO - MLPRegressor"
   ]
  },
  {
   "cell_type": "code",
   "execution_count": 13,
   "id": "9e137d3a",
   "metadata": {},
   "outputs": [],
   "source": [
    "from sklearn.neural_network import MLPRegressor\n",
    "\n",
    "pipe = Pipeline([\n",
    "\n",
    "    # ('imputer', SimpleImputer(missing_values=-10000, strategy='mean')),\n",
    "    ('imputer', KNNImputer(missing_values=-99999, n_neighbors=10, weights=\"uniform\")),\n",
    "\n",
    "    # ('scaler', StandardScaler()),\n",
    "    ('scaler', MinMaxScaler()),\n",
    "\n",
    "    # ('select', SelectKBest(chi2, k=3)),\n",
    "\n",
    "    # ('regression', MLPRegressor())\n",
    "    ('regression', MLPRegressor())\n",
    "])"
   ]
  },
  {
   "cell_type": "code",
   "execution_count": 14,
   "id": "55a39fe9",
   "metadata": {},
   "outputs": [
    {
     "name": "stdout",
     "output_type": "stream",
     "text": [
      "O código demorou 3347 segundos\n"
     ]
    },
    {
     "name": "stderr",
     "output_type": "stream",
     "text": [
      "C:\\Users\\Winicius\\anaconda3\\Lib\\site-packages\\sklearn\\neural_network\\_multilayer_perceptron.py:686: ConvergenceWarning: Stochastic Optimizer: Maximum iterations (200) reached and the optimization hasn't converged yet.\n",
      "  warnings.warn(\n"
     ]
    }
   ],
   "source": [
    "# parte código\n",
    "\n",
    "tempo_inicial = (time.time()) # em segundos\n",
    "\n",
    "#parte do código que vamos verificar o tempo de execução\n",
    "pipe.fit(X_train, y_train)\n",
    "\n",
    "tempo_final = (time.time()) # em segundos\n",
    "\n",
    "#Restante do código\n",
    "\n",
    "#Print do tempo que demorou para rodar a parte específica do código\n",
    "print(f\"O código demorou {int(tempo_final - tempo_inicial)} segundos\")"
   ]
  },
  {
   "cell_type": "code",
   "execution_count": 15,
   "id": "b27dbb85",
   "metadata": {},
   "outputs": [
    {
     "data": {
      "text/plain": [
       "1.4883255705384824"
      ]
     },
     "execution_count": 15,
     "metadata": {},
     "output_type": "execute_result"
    }
   ],
   "source": [
    "from sklearn.metrics import mean_absolute_error\n",
    "\n",
    "y_pred = pipe.predict(X_test)\n",
    "mean_absolute_error(y_test, y_pred)"
   ]
  },
  {
   "cell_type": "code",
   "execution_count": null,
   "id": "4005d4d3",
   "metadata": {},
   "outputs": [],
   "source": [
    "#REGRESSÃO - linear_model.LinearRegression"
   ]
  },
  {
   "cell_type": "code",
   "execution_count": 30,
   "id": "123f6e78",
   "metadata": {},
   "outputs": [],
   "source": [
    "from sklearn import linear_model\n",
    "\n",
    "pipe = Pipeline([\n",
    "\n",
    "    # ('imputer', SimpleImputer(missing_values=-10000, strategy='mean')),\n",
    "    ('imputer', KNNImputer(missing_values=-99999, n_neighbors=10, weights=\"uniform\")),\n",
    "\n",
    "    # ('scaler', StandardScaler()),\n",
    "    ('scaler', MinMaxScaler()),\n",
    "\n",
    "    # ('select', SelectKBest(chi2, k=3)),\n",
    "\n",
    "    # ('regression', linear_model.LinearRegression)\n",
    "    ('regression', linear_model.LinearRegression())\n",
    "])"
   ]
  },
  {
   "cell_type": "code",
   "execution_count": 31,
   "id": "88c70dba",
   "metadata": {
    "scrolled": false
   },
   "outputs": [
    {
     "name": "stdout",
     "output_type": "stream",
     "text": [
      "O código demorou 4523 segundos\n"
     ]
    }
   ],
   "source": [
    "# parte código\n",
    "\n",
    "tempo_inicial = (time.time()) # em segundos\n",
    "\n",
    "#parte do código que vamos verificar o tempo de execução\n",
    "pipe.fit(X_train, y_train)\n",
    "\n",
    "tempo_final = (time.time()) # em segundos\n",
    "\n",
    "#Restante do código\n",
    "\n",
    "#Print do tempo que demorou para rodar a parte específica do código\n",
    "print(f\"O código demorou {int(tempo_final - tempo_inicial)} segundos\")"
   ]
  },
  {
   "cell_type": "code",
   "execution_count": 32,
   "id": "23ea58a0",
   "metadata": {},
   "outputs": [
    {
     "data": {
      "text/plain": [
       "1.6368840327958483"
      ]
     },
     "execution_count": 32,
     "metadata": {},
     "output_type": "execute_result"
    }
   ],
   "source": [
    "from sklearn.metrics import mean_absolute_error\n",
    "\n",
    "y_pred = pipe.predict(X_test)\n",
    "mean_absolute_error(y_test, y_pred)"
   ]
  },
  {
   "cell_type": "code",
   "execution_count": null,
   "id": "a3ec8cd4",
   "metadata": {},
   "outputs": [],
   "source": [
    "#REGRESSÃO - tree.DecisionTreeRegressor()"
   ]
  },
  {
   "cell_type": "code",
   "execution_count": 17,
   "id": "4c6749ca",
   "metadata": {},
   "outputs": [],
   "source": [
    "from sklearn import tree\n",
    "\n",
    "pipe = Pipeline([\n",
    "\n",
    "    # ('imputer', SimpleImputer(missing_values=-10000, strategy='mean')),\n",
    "    ('imputer', KNNImputer(missing_values=-99999, n_neighbors=10, weights=\"uniform\")),\n",
    "\n",
    "    # ('scaler', StandardScaler()),\n",
    "    ('scaler', MinMaxScaler()),\n",
    "\n",
    "    # ('select', SelectKBest(chi2, k=3)),\n",
    "\n",
    "    # ('regression', linear_model.LinearRegression)\n",
    "    ('regression', tree.DecisionTreeRegressor())\n",
    "])"
   ]
  },
  {
   "cell_type": "code",
   "execution_count": 18,
   "id": "415002c4",
   "metadata": {},
   "outputs": [
    {
     "name": "stdout",
     "output_type": "stream",
     "text": [
      "O código demorou 4674 segundos\n"
     ]
    }
   ],
   "source": [
    "# parte código\n",
    "\n",
    "tempo_inicial = (time.time()) # em segundos\n",
    "\n",
    "#parte do código que vamos verificar o tempo de execução\n",
    "pipe.fit(X_train, y_train)\n",
    "\n",
    "tempo_final = (time.time()) # em segundos\n",
    "\n",
    "#Restante do código\n",
    "\n",
    "#Print do tempo que demorou para rodar a parte específica do código\n",
    "print(f\"O código demorou {int(tempo_final - tempo_inicial)} segundos\")"
   ]
  },
  {
   "cell_type": "code",
   "execution_count": 19,
   "id": "b9c62e8c",
   "metadata": {},
   "outputs": [
    {
     "data": {
      "text/plain": [
       "0.03554797967296518"
      ]
     },
     "execution_count": 19,
     "metadata": {},
     "output_type": "execute_result"
    }
   ],
   "source": [
    "from sklearn.metrics import mean_absolute_error\n",
    "from sklearn.metrics import mean_squared_error\n",
    "\n",
    "y_pred = pipe.predict(X_test)\n",
    "mean_absolute_error(y_test, y_pred)"
   ]
  },
  {
   "cell_type": "code",
   "execution_count": null,
   "id": "29e12ab7",
   "metadata": {},
   "outputs": [],
   "source": [
    "#CLASSIFICAÇÃO - LogisticRegressio()"
   ]
  },
  {
   "cell_type": "code",
   "execution_count": 20,
   "id": "61ad4d08",
   "metadata": {},
   "outputs": [],
   "source": [
    "from sklearn.linear_model import LogisticRegression\n",
    "\n",
    "pipe = Pipeline([\n",
    "\n",
    "    # ('imputer', SimpleImputer(missing_values=-10000, strategy='mean')),\n",
    "    ('imputer', KNNImputer(missing_values=-99999, n_neighbors=10, weights=\"uniform\")),\n",
    "\n",
    "    # ('scaler', StandardScaler()),\n",
    "    ('scaler', MinMaxScaler()),\n",
    "\n",
    "    ('select', SelectKBest(chi2, k=5)),\n",
    "\n",
    "    # ('regression', LinearRegression())\n",
    "    ('classification', LogisticRegression())\n",
    "])"
   ]
  },
  {
   "cell_type": "code",
   "execution_count": 21,
   "id": "2065660c",
   "metadata": {},
   "outputs": [
    {
     "name": "stdout",
     "output_type": "stream",
     "text": [
      "O código demorou 4466 segundos\n"
     ]
    }
   ],
   "source": [
    "# parte código\n",
    "\n",
    "tempo_inicial = (time.time()) # em segundos\n",
    "\n",
    "#parte do código que vamos verificar o tempo de execução\n",
    "pipe.fit(X_train_class, y_train_class)\n",
    "\n",
    "tempo_final = (time.time()) # em segundos\n",
    "\n",
    "#Restante do código\n",
    "\n",
    "#Print do tempo que demorou para rodar a parte específica do código\n",
    "print(f\"O código demorou {int(tempo_final - tempo_inicial)} segundos\")"
   ]
  },
  {
   "cell_type": "code",
   "execution_count": 22,
   "id": "d7895a26",
   "metadata": {},
   "outputs": [],
   "source": [
    "y_pred_class = pipe.predict(X_test_class)"
   ]
  },
  {
   "cell_type": "code",
   "execution_count": 23,
   "id": "7fff562f",
   "metadata": {},
   "outputs": [
    {
     "name": "stdout",
     "output_type": "stream",
     "text": [
      "Accuracy 0.7427062498152546\n",
      "[[18448 19042]\n",
      " [ 7071 56930]]\n"
     ]
    },
    {
     "data": {
      "text/plain": [
       "<sklearn.metrics._plot.confusion_matrix.ConfusionMatrixDisplay at 0x17d9b75b650>"
      ]
     },
     "execution_count": 23,
     "metadata": {},
     "output_type": "execute_result"
    },
    {
     "data": {
      "image/png": "[encoded data removed]",
      "text/plain": [
       "<Figure size 640x480 with 2 Axes>"
      ]
     },
     "metadata": {},
     "output_type": "display_data"
    }
   ],
   "source": [
    "from sklearn.metrics import accuracy_score\n",
    "from sklearn.metrics import confusion_matrix, ConfusionMatrixDisplay\n",
    "print (\"Accuracy\", accuracy_score(y_test_class, y_pred_class))\n",
    "cm = confusion_matrix(y_test_class, y_pred_class)\n",
    "\n",
    "print (cm)\n",
    "cm_disp = ConfusionMatrixDisplay(confusion_matrix=cm, display_labels= ['Choveu', 'Não choveu'])\n",
    "cm_disp.plot()\n",
    "# confusion_matrix(y_test, y_pred)"
   ]
  },
  {
   "cell_type": "code",
   "execution_count": 24,
   "id": "487b640b",
   "metadata": {},
   "outputs": [],
   "source": [
    "#CLASSIFICAÇÃO - Tree"
   ]
  },
  {
   "cell_type": "code",
   "execution_count": 16,
   "id": "9d1882ef",
   "metadata": {},
   "outputs": [],
   "source": [
    "from sklearn import tree\n",
    "\n",
    "pipe = Pipeline([\n",
    "\n",
    "    # ('imputer', SimpleImputer(missing_values=-10000, strategy='mean')),\n",
    "    ('imputer', KNNImputer(missing_values=-99999, n_neighbors=10, weights=\"uniform\")),\n",
    "\n",
    "    # ('scaler', StandardScaler()),\n",
    "    ('scaler', MinMaxScaler()),\n",
    "\n",
    "    ('select', SelectKBest(chi2, k=5)),\n",
    "\n",
    "    # ('classificação', tree.DecisionTreeClassifier())\n",
    "    ('classification', tree.DecisionTreeClassifier())\n",
    "])"
   ]
  },
  {
   "cell_type": "code",
   "execution_count": 17,
   "id": "98153a48",
   "metadata": {},
   "outputs": [
    {
     "name": "stdout",
     "output_type": "stream",
     "text": [
      "O código demorou 2983 segundos\n"
     ]
    }
   ],
   "source": [
    "# parte código\n",
    "\n",
    "tempo_inicial = (time.time()) # em segundos\n",
    "\n",
    "#parte do código que vamos verificar o tempo de execução\n",
    "pipe.fit(X_train_class, y_train_class)\n",
    "\n",
    "tempo_final = (time.time()) # em segundos\n",
    "\n",
    "#Restante do código\n",
    "\n",
    "#Print do tempo que demorou para rodar a parte específica do código\n",
    "print(f\"O código demorou {int(tempo_final - tempo_inicial)} segundos\")"
   ]
  },
  {
   "cell_type": "code",
   "execution_count": 18,
   "id": "2971fc9c",
   "metadata": {},
   "outputs": [],
   "source": [
    "y_pred_class = pipe.predict(X_test_class)"
   ]
  },
  {
   "cell_type": "code",
   "execution_count": 19,
   "id": "362ac8a8",
   "metadata": {},
   "outputs": [
    {
     "name": "stdout",
     "output_type": "stream",
     "text": [
      "Accuracy 0.9777911341892385\n",
      "[[35239  2251]\n",
      " [    3 63998]]\n"
     ]
    },
    {
     "data": {
      "text/plain": [
       "<sklearn.metrics._plot.confusion_matrix.ConfusionMatrixDisplay at 0x17a787fddd0>"
      ]
     },
     "execution_count": 19,
     "metadata": {},
     "output_type": "execute_result"
    },
    {
     "data": {
      "image/png": "[encoded data removed]",
      "text/plain": [
       "<Figure size 640x480 with 2 Axes>"
      ]
     },
     "metadata": {},
     "output_type": "display_data"
    }
   ],
   "source": [
    "from sklearn.metrics import accuracy_score\n",
    "from sklearn.metrics import confusion_matrix, ConfusionMatrixDisplay\n",
    "print (\"Accuracy\", accuracy_score(y_test_class, y_pred_class))\n",
    "cm = confusion_matrix(y_test_class, y_pred_class)\n",
    "\n",
    "print (cm)\n",
    "cm_disp = ConfusionMatrixDisplay(confusion_matrix=cm, display_labels= ['Choveu', 'Não choveu'])\n",
    "cm_disp.plot()\n",
    "# confusion_matrix(y_test, y_pred)"
   ]
  },
  {
   "cell_type": "code",
   "execution_count": 20,
   "id": "04f01b7a",
   "metadata": {},
   "outputs": [],
   "source": [
    "#CLASSIFICAÇÃO - SGDClassifier"
   ]
  },
  {
   "cell_type": "code",
   "execution_count": 21,
   "id": "cdd94d5c",
   "metadata": {},
   "outputs": [],
   "source": [
    "from sklearn import tree\n",
    "from sklearn.linear_model import SGDClassifier\n",
    "\n",
    "pipe = Pipeline([\n",
    "\n",
    "    # ('imputer', SimpleImputer(missing_values=-10000, strategy='mean')),\n",
    "    ('imputer', KNNImputer(missing_values=-99999, n_neighbors=10, weights=\"uniform\")),\n",
    "\n",
    "    # ('scaler', StandardScaler()),\n",
    "    ('scaler', MinMaxScaler()),\n",
    "\n",
    "    ('select', SelectKBest(chi2, k=5)),\n",
    "\n",
    "    # ('classificação', SGDClassifier())\n",
    "    ('classification', SGDClassifier(loss=\"hinge\", penalty=\"l2\", max_iter=26))\n",
    "])"
   ]
  },
  {
   "cell_type": "code",
   "execution_count": 22,
   "id": "69940f5d",
   "metadata": {},
   "outputs": [
    {
     "name": "stdout",
     "output_type": "stream",
     "text": [
      "O código demorou 2986 segundos\n"
     ]
    }
   ],
   "source": [
    "# parte código\n",
    "\n",
    "tempo_inicial = (time.time()) # em segundos\n",
    "\n",
    "#parte do código que vamos verificar o tempo de execução\n",
    "pipe.fit(X_train_class, y_train_class)\n",
    "\n",
    "tempo_final = (time.time()) # em segundos\n",
    "\n",
    "#Restante do código\n",
    "\n",
    "#Print do tempo que demorou para rodar a parte específica do código\n",
    "print(f\"O código demorou {int(tempo_final - tempo_inicial)} segundos\")"
   ]
  },
  {
   "cell_type": "code",
   "execution_count": 23,
   "id": "473ddca4",
   "metadata": {},
   "outputs": [],
   "source": [
    "y_pred_class = pipe.predict(X_test_class)"
   ]
  },
  {
   "cell_type": "code",
   "execution_count": 24,
   "id": "6248a5a3",
   "metadata": {},
   "outputs": [
    {
     "name": "stdout",
     "output_type": "stream",
     "text": [
      "Accuracy 0.7469430786966332\n",
      "[[18637 18853]\n",
      " [ 6830 57171]]\n"
     ]
    },
    {
     "data": {
      "text/plain": [
       "<sklearn.metrics._plot.confusion_matrix.ConfusionMatrixDisplay at 0x17a7a3c8190>"
      ]
     },
     "execution_count": 24,
     "metadata": {},
     "output_type": "execute_result"
    },
    {
     "data": {
      "image/png": "[encoded data removed]",
      "text/plain": [
       "<Figure size 640x480 with 2 Axes>"
      ]
     },
     "metadata": {},
     "output_type": "display_data"
    }
   ],
   "source": [
    "from sklearn.metrics import accuracy_score\n",
    "from sklearn.metrics import confusion_matrix, ConfusionMatrixDisplay\n",
    "print (\"Accuracy\", accuracy_score(y_test_class, y_pred_class))\n",
    "cm = confusion_matrix(y_test_class, y_pred_class)\n",
    "\n",
    "print (cm)\n",
    "cm_disp = ConfusionMatrixDisplay(confusion_matrix=cm, display_labels= ['Choveu', 'Não choveu'])\n",
    "cm_disp.plot()\n",
    "# confusion_matrix(y_test, y_pred)"
   ]
  },
  {
   "cell_type": "code",
   "execution_count": 25,
   "id": "bc5a735b",
   "metadata": {},
   "outputs": [],
   "source": [
    "#CLASSIFICAÇÃO - NearestCentroid"
   ]
  },
  {
   "cell_type": "code",
   "execution_count": 26,
   "id": "e6cb612e",
   "metadata": {},
   "outputs": [],
   "source": [
    "from sklearn.neighbors import NearestCentroid\n",
    "\n",
    "pipe = Pipeline([\n",
    "\n",
    "    # ('imputer', SimpleImputer(missing_values=-10000, strategy='mean')),\n",
    "    ('imputer', KNNImputer(missing_values=-99999, n_neighbors=10, weights=\"uniform\")),\n",
    "\n",
    "    # ('scaler', StandardScaler()),\n",
    "    ('scaler', MinMaxScaler()),\n",
    "\n",
    "    ('select', SelectKBest(chi2, k=5)),\n",
    "\n",
    "    # ('classificação', NearestCentroid())\n",
    "    ('classification', NearestCentroid())\n",
    "])"
   ]
  },
  {
   "cell_type": "code",
   "execution_count": 27,
   "id": "eebea2bd",
   "metadata": {},
   "outputs": [
    {
     "name": "stdout",
     "output_type": "stream",
     "text": [
      "O código demorou 2985 segundos\n"
     ]
    }
   ],
   "source": [
    "# parte código\n",
    "\n",
    "tempo_inicial = (time.time()) # em segundos\n",
    "\n",
    "#parte do código que vamos verificar o tempo de execução\n",
    "pipe.fit(X_train_class, y_train_class)\n",
    "\n",
    "tempo_final = (time.time()) # em segundos\n",
    "\n",
    "#Restante do código\n",
    "\n",
    "#Print do tempo que demorou para rodar a parte específica do código\n",
    "print(f\"O código demorou {int(tempo_final - tempo_inicial)} segundos\")"
   ]
  },
  {
   "cell_type": "code",
   "execution_count": 28,
   "id": "7869dc01",
   "metadata": {},
   "outputs": [],
   "source": [
    "y_pred_class = pipe.predict(X_test_class)"
   ]
  },
  {
   "cell_type": "code",
   "execution_count": 29,
   "id": "d227dd2a",
   "metadata": {},
   "outputs": [
    {
     "name": "stdout",
     "output_type": "stream",
     "text": [
      "Accuracy 0.7350208392862422\n",
      "[[22777 14713]\n",
      " [12180 51821]]\n"
     ]
    },
    {
     "data": {
      "text/plain": [
       "<sklearn.metrics._plot.confusion_matrix.ConfusionMatrixDisplay at 0x17a7a440b90>"
      ]
     },
     "execution_count": 29,
     "metadata": {},
     "output_type": "execute_result"
    },
    {
     "data": {
      "image/png": "[encoded data removed]",
      "text/plain": [
       "<Figure size 640x480 with 2 Axes>"
      ]
     },
     "metadata": {},
     "output_type": "display_data"
    }
   ],
   "source": [
    "from sklearn.metrics import accuracy_score\n",
    "from sklearn.metrics import confusion_matrix, ConfusionMatrixDisplay\n",
    "print (\"Accuracy\", accuracy_score(y_test_class, y_pred_class))\n",
    "cm = confusion_matrix(y_test_class, y_pred_class)\n",
    "\n",
    "print (cm)\n",
    "cm_disp = ConfusionMatrixDisplay(confusion_matrix=cm, display_labels= ['Choveu', 'Não choveu'])\n",
    "cm_disp.plot()\n",
    "# confusion_matrix(y_test, y_pred)"
   ]
  },
  {
   "cell_type": "code",
   "execution_count": null,
   "id": "1241f10e",
   "metadata": {},
   "outputs": [],
   "source": [
    "#CLASSIFICAÇÃO - GaussianNB"
   ]
  },
  {
   "cell_type": "code",
   "execution_count": 13,
   "id": "3aba5e6c",
   "metadata": {},
   "outputs": [],
   "source": [
    "from sklearn.naive_bayes import GaussianNB\n",
    "\n",
    "pipe = Pipeline([\n",
    "\n",
    "    # ('imputer', SimpleImputer(missing_values=-10000, strategy='mean')),\n",
    "    ('imputer', KNNImputer(missing_values=-99999, n_neighbors=10, weights=\"uniform\")),\n",
    "\n",
    "    # ('scaler', StandardScaler()),\n",
    "    ('scaler', MinMaxScaler()),\n",
    "\n",
    "    ('select', SelectKBest(chi2, k=5)),\n",
    "\n",
    "    # ('classificação', GaussianNB())\n",
    "    ('classification', GaussianNB())     \n",
    "     ])"
   ]
  },
  {
   "cell_type": "code",
   "execution_count": 14,
   "id": "cb0851a5",
   "metadata": {},
   "outputs": [
    {
     "name": "stdout",
     "output_type": "stream",
     "text": [
      "O código demorou 2670 segundos\n"
     ]
    }
   ],
   "source": [
    "# parte código\n",
    "\n",
    "tempo_inicial = (time.time()) # em segundos\n",
    "\n",
    "#parte do código que vamos verificar o tempo de execução\n",
    "pipe.fit(X_train_class, y_train_class)\n",
    "\n",
    "tempo_final = (time.time()) # em segundos\n",
    "\n",
    "#Restante do código\n",
    "\n",
    "#Print do tempo que demorou para rodar a parte específica do código\n",
    "print(f\"O código demorou {int(tempo_final - tempo_inicial)} segundos\")"
   ]
  },
  {
   "cell_type": "code",
   "execution_count": 15,
   "id": "fdfb16ad",
   "metadata": {},
   "outputs": [],
   "source": [
    "y_pred_class = pipe.predict(X_test_class)"
   ]
  },
  {
   "cell_type": "code",
   "execution_count": 16,
   "id": "59004b77",
   "metadata": {},
   "outputs": [
    {
     "name": "stdout",
     "output_type": "stream",
     "text": [
      "Accuracy 0.7254337823058202\n",
      "[[19243 18247]\n",
      " [ 9619 54382]]\n"
     ]
    },
    {
     "data": {
      "text/plain": [
       "<sklearn.metrics._plot.confusion_matrix.ConfusionMatrixDisplay at 0x1d9a3abe590>"
      ]
     },
     "execution_count": 16,
     "metadata": {},
     "output_type": "execute_result"
    },
    {
     "data": {
      "image/png": "[encoded data removed]",
      "text/plain": [
       "<Figure size 640x480 with 2 Axes>"
      ]
     },
     "metadata": {},
     "output_type": "display_data"
    }
   ],
   "source": [
    "from sklearn.metrics import accuracy_score\n",
    "from sklearn.metrics import confusion_matrix, ConfusionMatrixDisplay\n",
    "print (\"Accuracy\", accuracy_score(y_test_class, y_pred_class))\n",
    "cm = confusion_matrix(y_test_class, y_pred_class)\n",
    "\n",
    "print (cm)\n",
    "cm_disp = ConfusionMatrixDisplay(confusion_matrix=cm, display_labels= ['Choveu', 'Não choveu'])\n",
    "cm_disp.plot()\n",
    "# confusion_matrix(y_test, y_pred)"
   ]
  },
  {
   "cell_type": "code",
   "execution_count": null,
   "id": "54b688f9",
   "metadata": {},
   "outputs": [],
   "source": []
  },
  {
   "cell_type": "code",
   "execution_count": null,
   "id": "1efad0b5",
   "metadata": {},
   "outputs": [],
   "source": []
  }
 ],
 "metadata": {
  "kernelspec": {
   "display_name": "Python 3 (ipykernel)",
   "language": "python",
   "name": "python3"
  },
  "language_info": {
   "codemirror_mode": {
    "name": "ipython",
    "version": 3
   },
   "file_extension": ".py",
   "mimetype": "text/x-python",
   "name": "python",
   "nbconvert_exporter": "python",
   "pygments_lexer": "ipython3",
   "version": "3.11.3"
  }
 },
 "nbformat": 4,
 "nbformat_minor": 5
}
